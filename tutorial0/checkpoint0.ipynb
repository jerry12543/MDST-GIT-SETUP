{
 "cells": [
  {
   "cell_type": "markdown",
   "id": "fddac77a",
   "metadata": {
    "colab_type": "text",
    "id": "0a8IYAJUshu1"
   },
   "source": [
    "# Checkpoint 0 "
   ]
  },
  {
   "cell_type": "markdown",
   "id": "3122b17f",
   "metadata": {},
   "source": [
    "These exercises are a mix of Python and Pandas practice. Most should be no more than a few lines of code! "
   ]
  },
  {
   "cell_type": "code",
   "execution_count": 94,
   "id": "5c83a275",
   "metadata": {
    "colab": {},
    "colab_type": "code",
    "id": "Jo6wuTgkshu1"
   },
   "outputs": [],
   "source": [
    "# here is a Python list:\n",
    "\n",
    "a = [1, 2, 3, 4, 5, 6]\n"
   ]
  },
  {
   "cell_type": "code",
   "execution_count": 95,
   "id": "779d96b1",
   "metadata": {},
   "outputs": [
    {
     "name": "stdout",
     "output_type": "stream",
     "text": [
      "[4, 5, 6]\n"
     ]
    }
   ],
   "source": [
    "# get a list containing the last 3 elements of a\n",
    "# Yes, you can just type out [4, 5, 6] but we really want to see you demonstrate you know how to use list slicing in Python\n",
    "b = a[-3:]\n",
    "print(b)"
   ]
  },
  {
   "cell_type": "code",
   "execution_count": 96,
   "id": "b6a54def",
   "metadata": {},
   "outputs": [
    {
     "name": "stdout",
     "output_type": "stream",
     "text": [
      "[1, 2, 3, 4, 5, 6, 7, 8, 9, 10, 11, 12, 13, 14, 15, 16, 17, 18, 19, 20]\n"
     ]
    }
   ],
   "source": [
    "# create a list of numbers from 1 to 20\n",
    "onetotwenty = []\n",
    "for i in range (1, 21):\n",
    "    onetotwenty.append(i)\n",
    "print(onetotwenty)"
   ]
  },
  {
   "cell_type": "code",
   "execution_count": 97,
   "id": "487873ac",
   "metadata": {},
   "outputs": [
    {
     "name": "stdout",
     "output_type": "stream",
     "text": [
      "[2, 4, 6, 8, 10, 12, 14, 16, 18, 20, 22, 24, 26, 28, 30, 32, 34, 36, 38, 40, 42, 44, 46, 48, 50, 52, 54, 56, 58, 60, 62, 64, 66, 68, 70, 72, 74, 76, 78, 80, 82, 84, 86, 88, 90, 92, 94, 96, 98, 100]\n"
     ]
    }
   ],
   "source": [
    "# now get a list with only the even numbers between 1 and 100\n",
    "# you may or may not make use of the list you made in the last cell\n",
    "onetohundred = []\n",
    "for i in range (2, 101, 2):\n",
    "    onetohundred.append(i)\n",
    "print(onetohundred)"
   ]
  },
  {
   "cell_type": "code",
   "execution_count": 98,
   "id": "3d4bb5dd",
   "metadata": {},
   "outputs": [
    {
     "name": "stdout",
     "output_type": "stream",
     "text": [
      "0.4\n"
     ]
    }
   ],
   "source": [
    "# write a function that takes two numbers as arguments\n",
    "# and returns the first number divided by the second\n",
    "def divtwo(dividend, divisor):\n",
    "    return dividend/divisor\n",
    "\n",
    "print (divtwo(2,5))"
   ]
  },
  {
   "cell_type": "code",
   "execution_count": 99,
   "id": "b93669fa",
   "metadata": {},
   "outputs": [
    {
     "name": "stdout",
     "output_type": "stream",
     "text": [
      "HELLO\n"
     ]
    }
   ],
   "source": [
    "# write a function that takes a string as input\n",
    "# and return that string in all caps\n",
    "def caps(input):\n",
    "    return input.upper()\n",
    "\n",
    "print(caps(\"hello\"))"
   ]
  },
  {
   "cell_type": "code",
   "execution_count": 100,
   "id": "f55df04e",
   "metadata": {},
   "outputs": [
    {
     "name": "stdout",
     "output_type": "stream",
     "text": [
      "1\n",
      "2\n",
      "fizz\n",
      "4\n",
      "buzz\n",
      "fizz\n",
      "7\n",
      "8\n",
      "fizz\n",
      "buzz\n",
      "11\n",
      "fizz\n",
      "13\n",
      "14\n",
      "fizzbuzz\n",
      "16\n",
      "17\n",
      "fizz\n",
      "19\n",
      "buzz\n",
      "fizz\n",
      "22\n",
      "23\n",
      "fizz\n",
      "buzz\n",
      "26\n",
      "fizz\n",
      "28\n",
      "29\n",
      "fizzbuzz\n"
     ]
    }
   ],
   "source": [
    "# fizzbuzz\n",
    "# you will need to use both iteration and control flow \n",
    "# go through all numbers from 1 to 30 in order\n",
    "# if the number is a multiple of 3, print fizz\n",
    "# if the number is a multiple of 5, print buzz\n",
    "# if the number is a multiple of 3 and 5, print fizzbuzz and NOTHING ELSE\n",
    "# if the number is neither a multiple of 3 nor a multiple of 5, print the number\n",
    "\n",
    "for i in range (1,31):\n",
    "    if(i%3 == 0 and i%5 == 0): print (\"fizzbuzz\")\n",
    "    elif(i%3 == 0): print (\"fizz\")\n",
    "    elif(i%5 ==0): print (\"buzz\")\n",
    "    else: print (i)"
   ]
  },
  {
   "cell_type": "code",
   "execution_count": 101,
   "id": "78aace0b",
   "metadata": {},
   "outputs": [
    {
     "name": "stdout",
     "output_type": "stream",
     "text": [
      "{'Gyro': '$9', 'Burger': '$9', 'Greek Salad': '$8', 'Philly Steak': '$10'}\n"
     ]
    }
   ],
   "source": [
    "# create a dictionary that reflects the following menu pricing (taken from Ahmo's)\n",
    "# Gyro: $9 \n",
    "# Burger: $9\n",
    "# Greek Salad: $8\n",
    "# Philly Steak: $10\n",
    "\n",
    "menu = {\"Gyro\":\"$9\", \"Burger\":\"$9\", \"Greek Salad\":\"$8\", \"Philly Steak\":\"$10\"}\n",
    "print(menu)"
   ]
  },
  {
   "cell_type": "code",
   "execution_count": 102,
   "id": "f618adae",
   "metadata": {
    "colab": {},
    "colab_type": "code",
    "id": "WzCQ5HOJshvA"
   },
   "outputs": [
    {
     "name": "stdout",
     "output_type": "stream",
     "text": [
      "            beverage_category                                    beverage  \\\n",
      "0                      coffee                               brewed coffee   \n",
      "1                      coffee                               brewed coffee   \n",
      "2                      coffee                               brewed coffee   \n",
      "3                      coffee                               brewed coffee   \n",
      "4     classic espresso drinks                                  caff latte   \n",
      "..                        ...                                         ...   \n",
      "237  frappuccino blended crme  strawberries  crme (without whipped cream)   \n",
      "238  frappuccino blended crme        vanilla bean (without whipped cream)   \n",
      "239  frappuccino blended crme        vanilla bean (without whipped cream)   \n",
      "240  frappuccino blended crme        vanilla bean (without whipped cream)   \n",
      "241  frappuccino blended crme        vanilla bean (without whipped cream)   \n",
      "\n",
      "          beverage_prep  calories  total fat  trans fat  saturated fat  \\\n",
      "0                 Short         3        0.1        0.0            0.0   \n",
      "1                  Tall         4        0.1        0.0            0.0   \n",
      "2                Grande         5        0.1        0.0            0.0   \n",
      "3                 Venti         5        0.1        0.0            0.0   \n",
      "4     Short Nonfat Milk        70        0.1        0.1            0.0   \n",
      "..                  ...       ...        ...        ...            ...   \n",
      "237             Soymilk       320        3.2        0.4            0.0   \n",
      "238    Tall Nonfat Milk       170        0.1        0.1            0.0   \n",
      "239          Whole Milk       200        3.5        2.0            0.1   \n",
      "240             Soymilk       180        1.5        0.2            0.0   \n",
      "241  Grande Nonfat Milk       240        0.1        0.1            0.0   \n",
      "\n",
      "     sodium  total carbohydrates  cholesterol  dietary fibre  sugars  protein  \\\n",
      "0         0                    5            0              0       0      0.3   \n",
      "1         0                   10            0              0       0      0.5   \n",
      "2         0                   10            0              0       0      1.0   \n",
      "3         0                   10            0              0       0      1.0   \n",
      "4         5                   75           10              0       9      6.0   \n",
      "..      ...                  ...          ...            ...     ...      ...   \n",
      "237       0                  250           67              1      64      5.0   \n",
      "238       0                  160           39              0      38      4.0   \n",
      "239      10                  160           39              0      38      3.0   \n",
      "240       0                  160           37              1      35      3.0   \n",
      "241       5                  230           56              0      55      5.0   \n",
      "\n",
      "     vitamin a  vitamin c  calcium  iron  caffeine  \n",
      "0            0          0        0   0.0     175.0  \n",
      "1            0          0        0   0.0     260.0  \n",
      "2            0          0        0   0.0     330.0  \n",
      "3            0          0        2   0.0     410.0  \n",
      "4           10          0       20   0.0      75.0  \n",
      "..         ...        ...      ...   ...       ...  \n",
      "237          6          8       20  10.0       0.0  \n",
      "238          6          0       10   0.0       0.0  \n",
      "239          6          0       10   0.0       0.0  \n",
      "240          4          0       10   6.0       0.0  \n",
      "241          8          0       15   0.0       0.0  \n",
      "\n",
      "[242 rows x 18 columns]\n"
     ]
    }
   ],
   "source": [
    "# load in the \"starbucks.csv\" dataset\n",
    "# refer to how we read the cereal.csv dataset in the tutorial\n",
    "import pandas as pd\n",
    "starbucks = pd.read_csv(\"../data/starbucks.csv\")\n",
    "print(starbucks)"
   ]
  },
  {
   "cell_type": "code",
   "execution_count": 103,
   "id": "68210b5f",
   "metadata": {},
   "outputs": [
    {
     "name": "stdout",
     "output_type": "stream",
     "text": [
      "3\n",
      "0\n",
      "0.3\n",
      "\n",
      "5\n",
      "0\n",
      "0.4\n",
      "\n",
      "350\n",
      "58\n",
      "15.0\n",
      "\n",
      "140\n",
      "20\n",
      "6.0\n",
      "\n",
      "110\n",
      "24\n",
      "2.0\n",
      "\n",
      "200\n",
      "41\n",
      "3.0\n",
      "\n",
      "180\n",
      "35\n",
      "3.0\n",
      "\n"
     ]
    }
   ],
   "source": [
    "# output the calories, sugars, and protein columns only of every 40th row. \n",
    "for i in range(0,len(starbucks)+1, 40):\n",
    "    print(starbucks.get(\"calories\").get(i))\n",
    "    print(starbucks.get(\"sugars\").get(i))\n",
    "    print(starbucks.get(\"protein\").get(i))\n",
    "    print()"
   ]
  },
  {
   "cell_type": "code",
   "execution_count": 104,
   "id": "ac0f0c12",
   "metadata": {},
   "outputs": [
    {
     "name": "stdout",
     "output_type": "stream",
     "text": [
      "[81, 83, 84, 85, 128, 214, 215, 216]\n"
     ]
    }
   ],
   "source": [
    "# select all rows with more than and including 400 calories\n",
    "calories = starbucks.get(\"calories\")\n",
    "highcal = []\n",
    "for i in range (0, len(calories)):\n",
    "    if (calories.get(i) >= 400): highcal.append(i)\n",
    "print(highcal)"
   ]
  },
  {
   "cell_type": "code",
   "execution_count": 105,
   "id": "ee8f8241",
   "metadata": {},
   "outputs": [
    {
     "name": "stdout",
     "output_type": "stream",
     "text": [
      "[11, 14, 35, 38, 69, 72, 75, 77, 78, 81, 84, 118, 119, 121, 122, 124, 125, 127, 128, 169, 170, 171, 172, 175, 176, 177, 178, 179, 180, 229, 230, 232, 233, 235, 236]\n"
     ]
    }
   ],
   "source": [
    "# select all rows whose vitamin c content is higher than the iron content\n",
    "vitc = starbucks.get(\"vitamin c\")\n",
    "iron = starbucks.get(\"iron\")\n",
    "morevitc = []\n",
    "for i in range (0, len(vitc)):\n",
    "    if (vitc.get(i) > iron.get(i)): morevitc.append(i)\n",
    "print(morevitc)"
   ]
  },
  {
   "cell_type": "code",
   "execution_count": 106,
   "id": "d4de48bb",
   "metadata": {},
   "outputs": [],
   "source": [
    "# create a new column containing the caffeine per calories of each drink\n",
    "caffeine = starbucks.get(\"caffeine\")\n",
    "calories = starbucks.get(\"calories\")\n",
    "cafpercal = []\n",
    "for i in range(0, len(starbucks)):\n",
    "    if (calories.get(i) == 0): cafpercal.append(float('inf'))\n",
    "    else: cafpercal.append(caffeine.get(i)/calories.get(i))\n",
    "starbucks[\"caffeine per calories\"] = cafpercal"
   ]
  },
  {
   "cell_type": "code",
   "execution_count": 107,
   "id": "f2d7a1b6",
   "metadata": {
    "colab": {},
    "colab_type": "code",
    "id": "rIoxaSxHshvB"
   },
   "outputs": [
    {
     "name": "stdout",
     "output_type": "stream",
     "text": [
      "193.87190082644628\n"
     ]
    }
   ],
   "source": [
    "# what is the average calorie across all items?\n",
    "totcals = 0\n",
    "for i in starbucks.get(\"calories\"): totcals += i\n",
    "\n",
    "print(totcals/len(starbucks))"
   ]
  },
  {
   "cell_type": "code",
   "execution_count": 108,
   "id": "ccc36e6c",
   "metadata": {
    "colab": {},
    "colab_type": "code",
    "id": "ABX7i49FshvD"
   },
   "outputs": [
    {
     "name": "stdout",
     "output_type": "stream",
     "text": [
      "9\n"
     ]
    }
   ],
   "source": [
    "# how many different categories of beverages are there?\n",
    "cats = set(starbucks.get(\"beverage_category\"))\n",
    "print(len(cats))"
   ]
  },
  {
   "cell_type": "code",
   "execution_count": 109,
   "id": "2e5fcc85",
   "metadata": {
    "colab": {},
    "colab_type": "code",
    "id": "P9QatZAzshvE"
   },
   "outputs": [
    {
     "name": "stdout",
     "output_type": "stream",
     "text": [
      "{'signature espresso drinks': 250.0, 'shaken iced beverages': 114.44444444444444, 'smoothies': 282.22222222222223, 'frappuccino blended crme': 233.07692307692307, 'frappuccino light blended coffee': 162.5, 'tazo tea drinks': 177.30769230769232, 'classic espresso drinks': 140.17241379310346, 'coffee': 4.25, 'frappuccino blended coffee': 276.94444444444446}\n"
     ]
    }
   ],
   "source": [
    "# what is the average # calories for each beverage category?\n",
    "cats = set(starbucks.get(\"beverage_category\"))\n",
    "counts = starbucks.get(\"beverage_category\").value_counts()\n",
    "calspercat = {}\n",
    "for i in cats: calspercat[i] = 0\n",
    "for i in range(0, len(starbucks)): calspercat[starbucks.get(\"beverage_category\").get(i)] += starbucks.get(\"calories\").get(i)\n",
    "for i in cats: calspercat[i] /= counts[i]\n",
    "print(calspercat)"
   ]
  }
 ],
 "metadata": {
  "kernelspec": {
   "display_name": "Python 3 (ipykernel)",
   "language": "python",
   "name": "python3"
  },
  "language_info": {
   "codemirror_mode": {
    "name": "ipython",
    "version": 3
   },
   "file_extension": ".py",
   "mimetype": "text/x-python",
   "name": "python",
   "nbconvert_exporter": "python",
   "pygments_lexer": "ipython3",
   "version": "3.11.5"
  },
  "vscode": {
   "interpreter": {
    "hash": "6cf8df3ff69f85f626faf55c10df6fe2cb9d1236b4dc73844ee4dc01369c2c99"
   }
  }
 },
 "nbformat": 4,
 "nbformat_minor": 5
}
